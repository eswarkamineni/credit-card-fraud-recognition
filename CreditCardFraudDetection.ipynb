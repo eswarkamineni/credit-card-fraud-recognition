{
 "cells": [
  {
   "cell_type": "markdown",
   "metadata": {},
   "source": [
    "# Machine Learning Capstone Project\n",
    "\n",
    "## Credit Card Fraud Detection\n",
    "\n",
    "In this project, I will be designing multiple models to detect fraud transactions from a given set of transactions.\n",
    "\n",
    "I have implemented 3 algorithms: Logistic Regression, Random Forest, Autoencoder"
   ]
  },
  {
   "cell_type": "code",
   "execution_count": 1,
   "metadata": {},
   "outputs": [
    {
     "name": "stderr",
     "output_type": "stream",
     "text": [
      "Using TensorFlow backend.\n"
     ]
    }
   ],
   "source": [
    "# importing the required packages\n",
    "\n",
    "import pandas as pd\n",
    "import numpy as np\n",
    "import pickle\n",
    "import matplotlib.pyplot as plt\n",
    "from scipy import stats\n",
    "import tensorflow as tf\n",
    "import seaborn as sns\n",
    "from pylab import rcParams\n",
    "from sklearn.model_selection import train_test_split\n",
    "from keras.models import Model, load_model\n",
    "from keras.layers import Input, Dense\n",
    "from keras.callbacks import ModelCheckpoint, TensorBoard\n",
    "from keras import regularizers\n",
    "import utils"
   ]
  },
  {
   "cell_type": "code",
   "execution_count": 2,
   "metadata": {},
   "outputs": [],
   "source": [
    "%matplotlib inline\n",
    "\n",
    "RANDOM_SEED = 45\n",
    "LABELS = [\"Normal\", \"Fraud\"]"
   ]
  },
  {
   "cell_type": "markdown",
   "metadata": {},
   "source": [
    "Let's import the dataset and have a look at the data."
   ]
  },
  {
   "cell_type": "code",
   "execution_count": 3,
   "metadata": {},
   "outputs": [
    {
     "name": "stdout",
     "output_type": "stream",
     "text": [
      "(284807, 31)\n"
     ]
    },
    {
     "data": {
      "text/html": [
       "<div>\n",
       "<style scoped>\n",
       "    .dataframe tbody tr th:only-of-type {\n",
       "        vertical-align: middle;\n",
       "    }\n",
       "\n",
       "    .dataframe tbody tr th {\n",
       "        vertical-align: top;\n",
       "    }\n",
       "\n",
       "    .dataframe thead th {\n",
       "        text-align: right;\n",
       "    }\n",
       "</style>\n",
       "<table border=\"1\" class=\"dataframe\">\n",
       "  <thead>\n",
       "    <tr style=\"text-align: right;\">\n",
       "      <th></th>\n",
       "      <th>Time</th>\n",
       "      <th>V1</th>\n",
       "      <th>V2</th>\n",
       "      <th>V3</th>\n",
       "      <th>V4</th>\n",
       "      <th>V5</th>\n",
       "      <th>V6</th>\n",
       "      <th>V7</th>\n",
       "      <th>V8</th>\n",
       "      <th>V9</th>\n",
       "      <th>...</th>\n",
       "      <th>V21</th>\n",
       "      <th>V22</th>\n",
       "      <th>V23</th>\n",
       "      <th>V24</th>\n",
       "      <th>V25</th>\n",
       "      <th>V26</th>\n",
       "      <th>V27</th>\n",
       "      <th>V28</th>\n",
       "      <th>Amount</th>\n",
       "      <th>Class</th>\n",
       "    </tr>\n",
       "  </thead>\n",
       "  <tbody>\n",
       "    <tr>\n",
       "      <th>0</th>\n",
       "      <td>0.0</td>\n",
       "      <td>-1.359807</td>\n",
       "      <td>-0.072781</td>\n",
       "      <td>2.536347</td>\n",
       "      <td>1.378155</td>\n",
       "      <td>-0.338321</td>\n",
       "      <td>0.462388</td>\n",
       "      <td>0.239599</td>\n",
       "      <td>0.098698</td>\n",
       "      <td>0.363787</td>\n",
       "      <td>...</td>\n",
       "      <td>-0.018307</td>\n",
       "      <td>0.277838</td>\n",
       "      <td>-0.110474</td>\n",
       "      <td>0.066928</td>\n",
       "      <td>0.128539</td>\n",
       "      <td>-0.189115</td>\n",
       "      <td>0.133558</td>\n",
       "      <td>-0.021053</td>\n",
       "      <td>149.62</td>\n",
       "      <td>0</td>\n",
       "    </tr>\n",
       "    <tr>\n",
       "      <th>1</th>\n",
       "      <td>0.0</td>\n",
       "      <td>1.191857</td>\n",
       "      <td>0.266151</td>\n",
       "      <td>0.166480</td>\n",
       "      <td>0.448154</td>\n",
       "      <td>0.060018</td>\n",
       "      <td>-0.082361</td>\n",
       "      <td>-0.078803</td>\n",
       "      <td>0.085102</td>\n",
       "      <td>-0.255425</td>\n",
       "      <td>...</td>\n",
       "      <td>-0.225775</td>\n",
       "      <td>-0.638672</td>\n",
       "      <td>0.101288</td>\n",
       "      <td>-0.339846</td>\n",
       "      <td>0.167170</td>\n",
       "      <td>0.125895</td>\n",
       "      <td>-0.008983</td>\n",
       "      <td>0.014724</td>\n",
       "      <td>2.69</td>\n",
       "      <td>0</td>\n",
       "    </tr>\n",
       "    <tr>\n",
       "      <th>2</th>\n",
       "      <td>1.0</td>\n",
       "      <td>-1.358354</td>\n",
       "      <td>-1.340163</td>\n",
       "      <td>1.773209</td>\n",
       "      <td>0.379780</td>\n",
       "      <td>-0.503198</td>\n",
       "      <td>1.800499</td>\n",
       "      <td>0.791461</td>\n",
       "      <td>0.247676</td>\n",
       "      <td>-1.514654</td>\n",
       "      <td>...</td>\n",
       "      <td>0.247998</td>\n",
       "      <td>0.771679</td>\n",
       "      <td>0.909412</td>\n",
       "      <td>-0.689281</td>\n",
       "      <td>-0.327642</td>\n",
       "      <td>-0.139097</td>\n",
       "      <td>-0.055353</td>\n",
       "      <td>-0.059752</td>\n",
       "      <td>378.66</td>\n",
       "      <td>0</td>\n",
       "    </tr>\n",
       "    <tr>\n",
       "      <th>3</th>\n",
       "      <td>1.0</td>\n",
       "      <td>-0.966272</td>\n",
       "      <td>-0.185226</td>\n",
       "      <td>1.792993</td>\n",
       "      <td>-0.863291</td>\n",
       "      <td>-0.010309</td>\n",
       "      <td>1.247203</td>\n",
       "      <td>0.237609</td>\n",
       "      <td>0.377436</td>\n",
       "      <td>-1.387024</td>\n",
       "      <td>...</td>\n",
       "      <td>-0.108300</td>\n",
       "      <td>0.005274</td>\n",
       "      <td>-0.190321</td>\n",
       "      <td>-1.175575</td>\n",
       "      <td>0.647376</td>\n",
       "      <td>-0.221929</td>\n",
       "      <td>0.062723</td>\n",
       "      <td>0.061458</td>\n",
       "      <td>123.50</td>\n",
       "      <td>0</td>\n",
       "    </tr>\n",
       "    <tr>\n",
       "      <th>4</th>\n",
       "      <td>2.0</td>\n",
       "      <td>-1.158233</td>\n",
       "      <td>0.877737</td>\n",
       "      <td>1.548718</td>\n",
       "      <td>0.403034</td>\n",
       "      <td>-0.407193</td>\n",
       "      <td>0.095921</td>\n",
       "      <td>0.592941</td>\n",
       "      <td>-0.270533</td>\n",
       "      <td>0.817739</td>\n",
       "      <td>...</td>\n",
       "      <td>-0.009431</td>\n",
       "      <td>0.798278</td>\n",
       "      <td>-0.137458</td>\n",
       "      <td>0.141267</td>\n",
       "      <td>-0.206010</td>\n",
       "      <td>0.502292</td>\n",
       "      <td>0.219422</td>\n",
       "      <td>0.215153</td>\n",
       "      <td>69.99</td>\n",
       "      <td>0</td>\n",
       "    </tr>\n",
       "  </tbody>\n",
       "</table>\n",
       "<p>5 rows × 31 columns</p>\n",
       "</div>"
      ],
      "text/plain": [
       "   Time        V1        V2        V3        V4        V5        V6        V7  \\\n",
       "0   0.0 -1.359807 -0.072781  2.536347  1.378155 -0.338321  0.462388  0.239599   \n",
       "1   0.0  1.191857  0.266151  0.166480  0.448154  0.060018 -0.082361 -0.078803   \n",
       "2   1.0 -1.358354 -1.340163  1.773209  0.379780 -0.503198  1.800499  0.791461   \n",
       "3   1.0 -0.966272 -0.185226  1.792993 -0.863291 -0.010309  1.247203  0.237609   \n",
       "4   2.0 -1.158233  0.877737  1.548718  0.403034 -0.407193  0.095921  0.592941   \n",
       "\n",
       "         V8        V9  ...         V21       V22       V23       V24  \\\n",
       "0  0.098698  0.363787  ...   -0.018307  0.277838 -0.110474  0.066928   \n",
       "1  0.085102 -0.255425  ...   -0.225775 -0.638672  0.101288 -0.339846   \n",
       "2  0.247676 -1.514654  ...    0.247998  0.771679  0.909412 -0.689281   \n",
       "3  0.377436 -1.387024  ...   -0.108300  0.005274 -0.190321 -1.175575   \n",
       "4 -0.270533  0.817739  ...   -0.009431  0.798278 -0.137458  0.141267   \n",
       "\n",
       "        V25       V26       V27       V28  Amount  Class  \n",
       "0  0.128539 -0.189115  0.133558 -0.021053  149.62      0  \n",
       "1  0.167170  0.125895 -0.008983  0.014724    2.69      0  \n",
       "2 -0.327642 -0.139097 -0.055353 -0.059752  378.66      0  \n",
       "3  0.647376 -0.221929  0.062723  0.061458  123.50      0  \n",
       "4 -0.206010  0.502292  0.219422  0.215153   69.99      0  \n",
       "\n",
       "[5 rows x 31 columns]"
      ]
     },
     "execution_count": 3,
     "metadata": {},
     "output_type": "execute_result"
    }
   ],
   "source": [
    "df = pd.read_csv(\"data/creditcard.csv\")\n",
    "print(df.shape)\n",
    "df.head()"
   ]
  },
  {
   "cell_type": "code",
   "execution_count": 4,
   "metadata": {},
   "outputs": [
    {
     "data": {
      "text/plain": [
       "False"
      ]
     },
     "execution_count": 4,
     "metadata": {},
     "output_type": "execute_result"
    }
   ],
   "source": [
    "#check for missing values\n",
    "df.isnull().values.any()"
   ]
  },
  {
   "cell_type": "markdown",
   "metadata": {},
   "source": [
    "### Data Visualization\n",
    "\n",
    "Let's visualize the distribution of transactions into fraud and genuine class."
   ]
  },
  {
   "cell_type": "code",
   "execution_count": 5,
   "metadata": {},
   "outputs": [
    {
     "data": {
      "text/plain": [
       "Text(0.5, 1.0, 'Transaction class distribution')"
      ]
     },
     "execution_count": 5,
     "metadata": {},
     "output_type": "execute_result"
    },
    {
     "data": {
      "image/png": "[encoded data removed]",
      "text/plain": [
       "<Figure size 432x288 with 1 Axes>"
      ]
     },
     "metadata": {},
     "output_type": "display_data"
    }
   ],
   "source": [
    "# Class wise(Normal & Fraud) distribution of data\n",
    "count_classes = pd.value_counts(df['Class'], sort = True)\n",
    "count_classes.plot(kind = 'pie', shadow=True, legend=True)\n",
    "plt.title(\"Transaction class distribution\")"
   ]
  },
  {
   "cell_type": "code",
   "execution_count": 6,
   "metadata": {},
   "outputs": [
    {
     "name": "stdout",
     "output_type": "stream",
     "text": [
      "(492, 31) (284315, 31)\n"
     ]
    }
   ],
   "source": [
    "# Dividing the dataset into fraud and genuine transactions\n",
    "frauds = df[df.Class == 1]\n",
    "genuine = df[df.Class == 0]\n",
    "\n",
    "print(frauds.shape, genuine.shape)"
   ]
  },
  {
   "cell_type": "markdown",
   "metadata": {},
   "source": [
    "Distribution of transactions with amount involved in them"
   ]
  },
  {
   "cell_type": "code",
   "execution_count": 7,
   "metadata": {},
   "outputs": [
    {
     "data": {
      "image/png": "[encoded data removed]",
      "text/plain": [
       "<Figure size 432x288 with 1 Axes>"
      ]
     },
     "metadata": {
      "needs_background": "light"
     },
     "output_type": "display_data"
    },
    {
     "data": {
      "image/png": "[encoded data removed]",
      "text/plain": [
       "<Figure size 432x288 with 1 Axes>"
      ]
     },
     "metadata": {
      "needs_background": "light"
     },
     "output_type": "display_data"
    }
   ],
   "source": [
    "bins = np.linspace(0, 200, 100)\n",
    "\n",
    "plt.hist(genuine.Amount, bins, label='genuine transactions')\n",
    "plt.legend(loc='upper right')\n",
    "plt.xlabel('Amount of Transaction')\n",
    "plt.ylabel('Number of Transactions')\n",
    "plt.show()\n",
    "\n",
    "plt.hist(frauds.Amount, bins, label='fraud transactions')\n",
    "plt.legend(loc='upper right')\n",
    "plt.xlabel('Amount of Transaction')\n",
    "plt.ylabel('Number of Transactions')\n",
    "plt.show()"
   ]
  },
  {
   "cell_type": "markdown",
   "metadata": {},
   "source": [
    "Visualization of money involved in different transactions at different time period"
   ]
  },
  {
   "cell_type": "code",
   "execution_count": 10,
   "metadata": {},
   "outputs": [
    {
     "data": {
      "image/png": "[encoded data removed]",
      "text/plain": [
       "<Figure size 432x288 with 2 Axes>"
      ]
     },
     "metadata": {
      "needs_background": "light"
     },
     "output_type": "display_data"
    }
   ],
   "source": [
    "f, (ax1, ax2) = plt.subplots(2, 1, sharex=True)\n",
    "f.suptitle('Time of transaction vs Amount by class')\n",
    "\n",
    "ax1.scatter(frauds.Time, frauds.Amount)\n",
    "ax1.set_title('Fraud')\n",
    "\n",
    "ax2.scatter(genuine.Time, genuine.Amount)\n",
    "ax2.set_title('Genuine')\n",
    "\n",
    "plt.xlabel('Time (in Seconds)')\n",
    "plt.ylabel('Amount')\n",
    "plt.show()"
   ]
  },
  {
   "cell_type": "markdown",
   "metadata": {},
   "source": [
    "First, let's drop the Time column (not going to use it) and use the scikit's StandardScaler on the Amount. The scaler removes the mean and scales the values to unit variance:"
   ]
  },
  {
   "cell_type": "code",
   "execution_count": 12,
   "metadata": {},
   "outputs": [],
   "source": [
    "from sklearn.preprocessing import StandardScaler\n",
    "\n",
    "data = df.drop(['Time'], axis=1)\n",
    "\n",
    "data['Amount'] = StandardScaler().fit_transform(data['Amount'].values.reshape(-1, 1))"
   ]
  },
  {
   "cell_type": "markdown",
   "metadata": {},
   "source": [
    "Split the dataset into 70% training data and 30% testing data."
   ]
  },
  {
   "cell_type": "code",
   "execution_count": 13,
   "metadata": {},
   "outputs": [],
   "source": [
    "train, test = train_test_split(data, test_size=0.3, random_state=RANDOM_SEED)\n",
    "\n",
    "# Creating input features and output label for train and test set\n",
    "X_train = train.drop('Class', axis=1)\n",
    "y_train = train['Class']\n",
    "\n",
    "X_test = test.drop('Class', axis=1)\n",
    "y_test = test['Class']"
   ]
  },
  {
   "cell_type": "markdown",
   "metadata": {},
   "source": [
    "## Using Logistic Regression"
   ]
  },
  {
   "cell_type": "code",
   "execution_count": 14,
   "metadata": {},
   "outputs": [
    {
     "name": "stderr",
     "output_type": "stream",
     "text": [
      "/home/tarun/anaconda3/lib/python3.6/site-packages/sklearn/linear_model/logistic.py:433: FutureWarning: Default solver will be changed to 'lbfgs' in 0.22. Specify a solver to silence this warning.\n",
      "  FutureWarning)\n"
     ]
    },
    {
     "data": {
      "text/plain": [
       "LogisticRegression(C=1.0, class_weight=None, dual=False, fit_intercept=True,\n",
       "          intercept_scaling=1, max_iter=100, multi_class='warn',\n",
       "          n_jobs=None, penalty='l2', random_state=None, solver='warn',\n",
       "          tol=0.0001, verbose=0, warm_start=False)"
      ]
     },
     "execution_count": 14,
     "metadata": {},
     "output_type": "execute_result"
    }
   ],
   "source": [
    "# Importing Logistic Regression from sklearn\n",
    "from sklearn.linear_model import LogisticRegression\n",
    "from sklearn.metrics import confusion_matrix\n",
    "\n",
    "logreg = LogisticRegression(penalty='l2')\n",
    "\n",
    "# training the regression model\n",
    "logreg.fit(X_train, y_train)"
   ]
  },
  {
   "cell_type": "code",
   "execution_count": 15,
   "metadata": {},
   "outputs": [
    {
     "data": {
      "image/png": "[encoded data removed]",
      "text/plain": [
       "<Figure size 432x288 with 2 Axes>"
      ]
     },
     "metadata": {
      "needs_background": "light"
     },
     "output_type": "display_data"
    }
   ],
   "source": [
    "# predicting for test set using the trained Logistic Regression model\n",
    "y_pred = logreg.predict(X_test)\n",
    "\n",
    "conf_matrix = confusion_matrix(y_test, y_pred)\n",
    "\n",
    "sns.heatmap(conf_matrix, xticklabels=LABELS, yticklabels=LABELS, annot=True, cmap=\"Greens\", fmt='g', cbar_kws={'label': 'Number of Transactions'});\n",
    "plt.title(\"Confusion matrix\")\n",
    "plt.ylabel('True class')\n",
    "plt.xlabel('Predicted class')\n",
    "plt.show()"
   ]
  },
  {
   "cell_type": "markdown",
   "metadata": {},
   "source": [
    "## Using Random Forests"
   ]
  },
  {
   "cell_type": "code",
   "execution_count": 13,
   "metadata": {},
   "outputs": [
    {
     "data": {
      "text/plain": [
       "RandomForestClassifier(bootstrap=True, class_weight=None, criterion='gini',\n",
       "            max_depth=None, max_features='auto', max_leaf_nodes=None,\n",
       "            min_impurity_decrease=0.0, min_impurity_split=None,\n",
       "            min_samples_leaf=1, min_samples_split=2,\n",
       "            min_weight_fraction_leaf=0.0, n_estimators=50, n_jobs=None,\n",
       "            oob_score=False, random_state=0, verbose=0, warm_start=False)"
      ]
     },
     "execution_count": 13,
     "metadata": {},
     "output_type": "execute_result"
    }
   ],
   "source": [
    "from sklearn.ensemble import RandomForestClassifier\n",
    "\n",
    "randForest = RandomForestClassifier(n_estimators=50, random_state=0)\n",
    "\n",
    "# training the RandomForestClassifier\n",
    "randForest.fit(X_train, y_train)"
   ]
  },
  {
   "cell_type": "code",
   "execution_count": 14,
   "metadata": {},
   "outputs": [
    {
     "data": {
      "image/png": "[encoded data removed]",
      "text/plain": [
       "<Figure size 432x288 with 2 Axes>"
      ]
     },
     "metadata": {
      "needs_background": "light"
     },
     "output_type": "display_data"
    }
   ],
   "source": [
    "# predicting labels for testing set\n",
    "y_pred = randForest.predict(X_test)\n",
    "\n",
    "conf_matrix = confusion_matrix(y_test, y_pred)\n",
    "sns.heatmap(conf_matrix, annot=True, cmap=\"Greens\", fmt='g', cbar_kws={'label': 'Number of Transactions'})\n",
    "plt.title(\"Confusion matrix\")\n",
    "plt.ylabel('True class')\n",
    "plt.xlabel('Predicted class')\n",
    "plt.show()"
   ]
  },
  {
   "cell_type": "markdown",
   "metadata": {},
   "source": [
    "### Dividing data into 4 batches"
   ]
  },
  {
   "cell_type": "code",
   "execution_count": 17,
   "metadata": {},
   "outputs": [],
   "source": [
    "import random\n",
    "\n",
    "# utility method to devide the data to create multiple batches. it divided the dataToSplit equally to each batch\n",
    "# and adds the constData to each batch\n",
    "def createBatches(dataToSplit, constData, batch):\n",
    "    # based on number of batches calculate the size of each batch\n",
    "    batchSize = int(dataToSplit.shape[0] / batch)\n",
    "    \n",
    "    # distribution batch numbers for batchsize number of elements each\n",
    "    dataToSplit = dataToSplit.loc[random.sample(list(dataToSplit.index), batch * batchSize)]\n",
    "    batch_no_array = np.array([])\n",
    "    \n",
    "    for itr in range(1, batch + 1):\n",
    "        batch_no_array = np.append(batch_no_array, [itr] * batchSize)\n",
    "\n",
    "    # shuffling the batch numbers so that data is randomly distributed in the batches\n",
    "    np.random.shuffle(batch_no_array)\n",
    "    dataToSplit.loc[:, 'batch'] = batch_no_array\n",
    "\n",
    "    batches = []\n",
    "    \n",
    "    # creating batches based on the batch numbers\n",
    "    for itr in range(1, batch + 1):\n",
    "        newBatch = pd.concat([dataToSplit[dataToSplit['batch'] == itr], constData], sort=False)\n",
    "        newBatch.drop(['batch'], axis=1, inplace=True)\n",
    "        batches.append(newBatch)\n",
    "\n",
    "    return batches\n",
    "\n",
    "# Utility method to get predictions from multiple classifiers\n",
    "def getCombinedPrediction(X_test, clfs):\n",
    "    # creating the prediction variable with all 0 entries and adding the prediction of each classifier\n",
    "    y_pred = [0]*X_test.shape[0]\n",
    "    for clf in clfs:\n",
    "        y_pred += clf.predict(X_test)\n",
    "\n",
    "    # if atleast 2 classifiers predict transaction as fraud then label it as fraud\n",
    "    y_pred = (y_pred >= 2).astype(int)\n",
    "    return y_pred\n"
   ]
  },
  {
   "cell_type": "code",
   "execution_count": 18,
   "metadata": {},
   "outputs": [],
   "source": [
    "# Utility method for undersampling the data\n",
    "def preprocessunEqualDistribution(data, sampling_ratio):\n",
    "    X = data.loc[:, data.columns != 'Class']\n",
    "    y = data.loc[:, data.columns == 'Class']\n",
    "\n",
    "    number_records_fraud = len(data[data['Class'] == 1])\n",
    "    # getting the index of fraud transactions\n",
    "    fraud_indices = np.array(data[data['Class'] == 1].index)\n",
    "    # getting the index of genuine transactions\n",
    "    normal_indices = data[data['Class'] == 0].index\n",
    "    \n",
    "    # randomizing the indexes considering the required sampling ratio\n",
    "    random_normal_indices = np.random.choice(normal_indices,\n",
    "                                             int((number_records_fraud * sampling_ratio) / (10 - sampling_ratio)),\n",
    "                                             replace=False)\n",
    "\n",
    "    under_sample_indices = np.concatenate([fraud_indices, random_normal_indices])\n",
    "\n",
    "    under_sample_data = data.loc[under_sample_indices, :]\n",
    "\n",
    "    X_undersample = under_sample_data.iloc[:, under_sample_data.columns != 'Class']\n",
    "    y_undersample = under_sample_data.iloc[:, under_sample_data.columns == 'Class']\n",
    "\n",
    "    return X_undersample, y_undersample"
   ]
  },
  {
   "cell_type": "markdown",
   "metadata": {},
   "source": [
    "#### Creating 4 batches"
   ]
  },
  {
   "cell_type": "code",
   "execution_count": 19,
   "metadata": {},
   "outputs": [],
   "source": [
    "# creating 4 batches to train \n",
    "batches = createBatches(train[train.Class == 0], train[train.Class == 1], 4)"
   ]
  },
  {
   "cell_type": "markdown",
   "metadata": {},
   "source": [
    "#### Training 4 Random Forests with each batch"
   ]
  },
  {
   "cell_type": "code",
   "execution_count": 18,
   "metadata": {},
   "outputs": [],
   "source": [
    "clfs = []\n",
    "\n",
    "for batch in batches:\n",
    "    X_train = batch.drop('Class', axis=1)\n",
    "    y_train = batch['Class']\n",
    "\n",
    "    # Creating a RandomForestClassifier for each batch and saving it to clfs list\n",
    "    classifier = RandomForestClassifier(n_estimators=50, random_state=0)\n",
    "    classifier.fit(X_train, y_train.values.ravel())\n",
    "    clfs.append(classifier)"
   ]
  },
  {
   "cell_type": "markdown",
   "metadata": {},
   "source": [
    "#### Prediction for test set using 4 trained Random Forests"
   ]
  },
  {
   "cell_type": "code",
   "execution_count": 19,
   "metadata": {},
   "outputs": [
    {
     "data": {
      "image/png": "[encoded data removed]",
      "text/plain": [
       "<Figure size 432x288 with 2 Axes>"
      ]
     },
     "metadata": {
      "needs_background": "light"
     },
     "output_type": "display_data"
    }
   ],
   "source": [
    "# getting the predicted labels using 4 trained classifiers\n",
    "y_pred = getCombinedPrediction(X_test, clfs)\n",
    "\n",
    "conf_matrix = confusion_matrix(y_test, y_pred)\n",
    "sns.heatmap(conf_matrix, annot=True, cmap=\"Greens\", fmt='g', cbar_kws={'label': 'Number of Transactions'})\n",
    "plt.title(\"Confusion matrix\")\n",
    "plt.ylabel('True class')\n",
    "plt.xlabel('Predicted class')\n",
    "plt.show()"
   ]
  },
  {
   "cell_type": "markdown",
   "metadata": {},
   "source": [
    "#### Training 4 Random Forests with each batch with 90:10 sampling"
   ]
  },
  {
   "cell_type": "code",
   "execution_count": 20,
   "metadata": {},
   "outputs": [],
   "source": [
    "clfs = []\n",
    "\n",
    "for batch in batches:\n",
    "    # creating X and y set with 90:10 sampling\n",
    "    X_train, y_train = preprocessunEqualDistribution(batch , 9)\n",
    "    \n",
    "    # training the classifiers and saving into clfs\n",
    "    classifier = RandomForestClassifier(n_estimators=50, random_state=0)\n",
    "    classifier.fit(X_train, y_train.values.ravel())\n",
    "    clfs.append(classifier)"
   ]
  },
  {
   "cell_type": "code",
   "execution_count": 21,
   "metadata": {},
   "outputs": [
    {
     "data": {
      "image/png": "[encoded data removed]",
      "text/plain": [
       "<Figure size 432x288 with 2 Axes>"
      ]
     },
     "metadata": {
      "needs_background": "light"
     },
     "output_type": "display_data"
    }
   ],
   "source": [
    "# predicting labels\n",
    "y_pred = getCombinedPrediction(X_test, clfs)\n",
    "\n",
    "conf_matrix = confusion_matrix(y_test, y_pred)\n",
    "sns.heatmap(conf_matrix, annot=True, cmap=\"Greens\", fmt='g', cbar_kws={'label': 'Number of Transactions'})\n",
    "plt.title(\"Confusion matrix\")\n",
    "plt.ylabel('True class')\n",
    "plt.xlabel('Predicted class')\n",
    "plt.show()"
   ]
  },
  {
   "cell_type": "markdown",
   "metadata": {},
   "source": [
    "#### Training 4 Random Forests with each batch with 80:20 sampling"
   ]
  },
  {
   "cell_type": "code",
   "execution_count": 22,
   "metadata": {},
   "outputs": [
    {
     "data": {
      "image/png": "[encoded data removed]",
      "text/plain": [
       "<Figure size 432x288 with 2 Axes>"
      ]
     },
     "metadata": {
      "needs_background": "light"
     },
     "output_type": "display_data"
    }
   ],
   "source": [
    "clfs = []\n",
    "\n",
    "for batch in batches:\n",
    "    # creating X and y set with 80:10 sampling\n",
    "    X_train, y_train = preprocessunEqualDistribution(batch , 8)\n",
    "\n",
    "    classifier = RandomForestClassifier(n_estimators=50, random_state=0)\n",
    "    classifier.fit(X_train, y_train.values.ravel())\n",
    "    clfs.append(classifier)\n",
    "\n",
    "# predicting labels\n",
    "y_pred = getCombinedPrediction(X_test, clfs)\n",
    "\n",
    "conf_matrix = confusion_matrix(y_test, y_pred)\n",
    "sns.heatmap(conf_matrix, annot=True, cmap=\"Greens\", fmt='g', cbar_kws={'label': 'Number of Transactions'})\n",
    "plt.title(\"Confusion matrix\")\n",
    "plt.ylabel('True class')\n",
    "plt.xlabel('Predicted class')\n",
    "plt.show()"
   ]
  },
  {
   "cell_type": "markdown",
   "metadata": {},
   "source": [
    "## Using Autoencoders"
   ]
  },
  {
   "cell_type": "markdown",
   "metadata": {},
   "source": [
    "Training our Autoencoder is gonna be a bit different from what we are used to. Let's say you have a dataset containing a lot of non fraudulent transactions at hand. You want to detect any anomaly on new transactions. We will create this situation by training our model on the normal transactions, only. Reserving the correct class on the test set will give us a way to evaluate the performance of our model. We will reserve 20% of our data for testing:"
   ]
  },
  {
   "cell_type": "code",
   "execution_count": 23,
   "metadata": {},
   "outputs": [],
   "source": [
    "# spliting data into train test set with 80:20 ratio\n",
    "X_train, X_test = train_test_split(data, test_size=0.2, random_state=RANDOM_SEED)\n",
    "X_train = X_train[X_train.Class == 0]\n",
    "X_train = X_train.drop(['Class'], axis=1)\n",
    "\n",
    "# creating input features and output labels for train set\n",
    "y_test = X_test['Class']\n",
    "X_test = X_test.drop(['Class'], axis=1)\n",
    "\n",
    "X_train = X_train.values\n",
    "X_test = X_test.values"
   ]
  },
  {
   "cell_type": "markdown",
   "metadata": {},
   "source": [
    "\n",
    "Building the model\n",
    "\n",
    "Our Autoencoder uses 4 fully connected layers with 14, 7, 7 and 29 neurons respectively. The first two layers are used for encoder, the last two go for the decoder. Additionally, L1 regularization will be used during training:\n"
   ]
  },
  {
   "cell_type": "code",
   "execution_count": 21,
   "metadata": {},
   "outputs": [],
   "source": [
    "input_dim = X_train.shape[1]\n",
    "encoding_dim = 14"
   ]
  },
  {
   "cell_type": "code",
   "execution_count": 23,
   "metadata": {},
   "outputs": [
    {
     "name": "stdout",
     "output_type": "stream",
     "text": [
      "<keras.engine.training.Model object at 0x7f1f563bde80>\n"
     ]
    }
   ],
   "source": [
    "# defining the structure of autoencoder\n",
    "\n",
    "input_layer = Input(shape=(input_dim, ))\n",
    "\n",
    "encoder = Dense(encoding_dim, activation=\"tanh\", \n",
    "                activity_regularizer=regularizers.l1(10e-5))(input_layer)\n",
    "encoder = Dense(int(encoding_dim / 2), activation=\"relu\")(encoder)\n",
    "\n",
    "decoder = Dense(int(encoding_dim / 2), activation='tanh')(encoder)\n",
    "decoder = Dense(input_dim, activation='relu')(decoder)\n",
    "\n",
    "autoencoder = Model(inputs=input_layer, outputs=decoder)\n",
    "\n",
    "print(autoencoder)"
   ]
  },
  {
   "cell_type": "markdown",
   "metadata": {},
   "source": [
    "Let's train our model for 100 epochs with a batch size of 32 samples and save the best performing model to a file. The ModelCheckpoint provided by Keras is really handy for such tasks. Additionally, the training progress will be exported in a format that TensorBoard understands."
   ]
  },
  {
   "cell_type": "code",
   "execution_count": 26,
   "metadata": {},
   "outputs": [
    {
     "name": "stdout",
     "output_type": "stream",
     "text": [
      "Train on 227468 samples, validate on 56962 samples\n",
      "Epoch 1/100\n",
      "227468/227468 [==============================] - 15s 64us/step - loss: 0.8244 - acc: 0.5896 - val_loss: 0.7942 - val_acc: 0.6520\n",
      "Epoch 2/100\n",
      "227468/227468 [==============================] - 13s 57us/step - loss: 0.7489 - acc: 0.6590 - val_loss: 0.7760 - val_acc: 0.6638\n",
      "Epoch 3/100\n",
      "227468/227468 [==============================] - 13s 58us/step - loss: 0.7384 - acc: 0.6697 - val_loss: 0.7702 - val_acc: 0.6675\n",
      "Epoch 4/100\n",
      "227468/227468 [==============================] - 13s 58us/step - loss: 0.7332 - acc: 0.6731 - val_loss: 0.7661 - val_acc: 0.6773\n",
      "Epoch 5/100\n",
      "227468/227468 [==============================] - 13s 57us/step - loss: 0.7305 - acc: 0.6750 - val_loss: 0.7635 - val_acc: 0.6789\n",
      "Epoch 6/100\n",
      "227468/227468 [==============================] - 13s 57us/step - loss: 0.7286 - acc: 0.6748 - val_loss: 0.7675 - val_acc: 0.6713\n",
      "Epoch 7/100\n",
      "227468/227468 [==============================] - 13s 58us/step - loss: 0.7276 - acc: 0.6748 - val_loss: 0.7621 - val_acc: 0.6796\n",
      "Epoch 8/100\n",
      "227468/227468 [==============================] - 13s 57us/step - loss: 0.7263 - acc: 0.6760 - val_loss: 0.7604 - val_acc: 0.6762\n",
      "Epoch 9/100\n",
      "227468/227468 [==============================] - 13s 57us/step - loss: 0.7250 - acc: 0.6763 - val_loss: 0.7650 - val_acc: 0.6734\n",
      "Epoch 10/100\n",
      "227468/227468 [==============================] - 16s 70us/step - loss: 0.7240 - acc: 0.6758 - val_loss: 0.7614 - val_acc: 0.6773\n",
      "Epoch 11/100\n",
      "227468/227468 [==============================] - 16s 72us/step - loss: 0.7230 - acc: 0.6772 - val_loss: 0.7601 - val_acc: 0.6700\n",
      "Epoch 12/100\n",
      "227468/227468 [==============================] - 16s 72us/step - loss: 0.7223 - acc: 0.6771 - val_loss: 0.7575 - val_acc: 0.6780\n",
      "Epoch 13/100\n",
      "227468/227468 [==============================] - 16s 72us/step - loss: 0.7215 - acc: 0.6782 - val_loss: 0.7581 - val_acc: 0.6800\n",
      "Epoch 14/100\n",
      "227468/227468 [==============================] - 16s 72us/step - loss: 0.7212 - acc: 0.6780 - val_loss: 0.7678 - val_acc: 0.6634\n",
      "Epoch 15/100\n",
      "227468/227468 [==============================] - 13s 59us/step - loss: 0.7207 - acc: 0.6789 - val_loss: 0.7568 - val_acc: 0.6763\n",
      "Epoch 16/100\n",
      "227468/227468 [==============================] - 13s 57us/step - loss: 0.7202 - acc: 0.6791 - val_loss: 0.7572 - val_acc: 0.6801\n",
      "Epoch 17/100\n",
      "227468/227468 [==============================] - 13s 58us/step - loss: 0.7199 - acc: 0.6791 - val_loss: 0.7608 - val_acc: 0.6730\n",
      "Epoch 18/100\n",
      "227468/227468 [==============================] - 13s 57us/step - loss: 0.7197 - acc: 0.6800 - val_loss: 0.7567 - val_acc: 0.6780\n",
      "Epoch 19/100\n",
      "227468/227468 [==============================] - 13s 58us/step - loss: 0.7194 - acc: 0.6805 - val_loss: 0.7575 - val_acc: 0.6765\n",
      "Epoch 20/100\n",
      "227468/227468 [==============================] - 13s 57us/step - loss: 0.7187 - acc: 0.6787 - val_loss: 0.7553 - val_acc: 0.6817\n",
      "Epoch 21/100\n",
      "227468/227468 [==============================] - 13s 57us/step - loss: 0.7184 - acc: 0.6788 - val_loss: 0.7549 - val_acc: 0.6812\n",
      "Epoch 22/100\n",
      "227468/227468 [==============================] - 13s 58us/step - loss: 0.7182 - acc: 0.6782 - val_loss: 0.7588 - val_acc: 0.6782\n",
      "Epoch 23/100\n",
      "227468/227468 [==============================] - 15s 65us/step - loss: 0.7183 - acc: 0.6786 - val_loss: 0.7551 - val_acc: 0.6732\n",
      "Epoch 24/100\n",
      "227468/227468 [==============================] - 15s 67us/step - loss: 0.7174 - acc: 0.6782 - val_loss: 0.7546 - val_acc: 0.6703\n",
      "Epoch 25/100\n",
      "227468/227468 [==============================] - 13s 57us/step - loss: 0.7173 - acc: 0.6779 - val_loss: 0.7560 - val_acc: 0.6725\n",
      "Epoch 26/100\n",
      "227468/227468 [==============================] - 13s 58us/step - loss: 0.7175 - acc: 0.6782 - val_loss: 0.7556 - val_acc: 0.6723\n",
      "Epoch 27/100\n",
      "227468/227468 [==============================] - 13s 58us/step - loss: 0.7173 - acc: 0.6782 - val_loss: 0.7549 - val_acc: 0.6760\n",
      "Epoch 28/100\n",
      "227468/227468 [==============================] - 14s 60us/step - loss: 0.7169 - acc: 0.6779 - val_loss: 0.7537 - val_acc: 0.6835\n",
      "Epoch 29/100\n",
      "227468/227468 [==============================] - 20s 89us/step - loss: 0.7170 - acc: 0.6784 - val_loss: 0.7536 - val_acc: 0.6816\n",
      "Epoch 30/100\n",
      "227468/227468 [==============================] - 16s 70us/step - loss: 0.7165 - acc: 0.6786 - val_loss: 0.7533 - val_acc: 0.6835\n",
      "Epoch 31/100\n",
      "227468/227468 [==============================] - 13s 59us/step - loss: 0.7167 - acc: 0.6790 - val_loss: 0.7547 - val_acc: 0.6869\n",
      "Epoch 32/100\n",
      "227468/227468 [==============================] - 13s 59us/step - loss: 0.7168 - acc: 0.6790 - val_loss: 0.7542 - val_acc: 0.6890\n",
      "Epoch 33/100\n",
      "227468/227468 [==============================] - 13s 58us/step - loss: 0.7167 - acc: 0.6799 - val_loss: 0.7585 - val_acc: 0.6722\n",
      "Epoch 34/100\n",
      "227468/227468 [==============================] - 13s 58us/step - loss: 0.7159 - acc: 0.6795 - val_loss: 0.7533 - val_acc: 0.6756\n",
      "Epoch 35/100\n",
      "227468/227468 [==============================] - 13s 58us/step - loss: 0.7164 - acc: 0.6800 - val_loss: 0.7538 - val_acc: 0.6750\n",
      "Epoch 36/100\n",
      "227468/227468 [==============================] - 13s 58us/step - loss: 0.7163 - acc: 0.6796 - val_loss: 0.7531 - val_acc: 0.6848\n",
      "Epoch 37/100\n",
      "227468/227468 [==============================] - 13s 58us/step - loss: 0.7161 - acc: 0.6800 - val_loss: 0.7580 - val_acc: 0.6648\n",
      "Epoch 38/100\n",
      "227468/227468 [==============================] - 13s 58us/step - loss: 0.7163 - acc: 0.6803 - val_loss: 0.7522 - val_acc: 0.6835\n",
      "Epoch 39/100\n",
      "227468/227468 [==============================] - 13s 58us/step - loss: 0.7159 - acc: 0.6814 - val_loss: 0.7534 - val_acc: 0.6781\n",
      "Epoch 40/100\n",
      "227468/227468 [==============================] - 13s 57us/step - loss: 0.7159 - acc: 0.6814 - val_loss: 0.7543 - val_acc: 0.6786\n",
      "Epoch 41/100\n",
      "227468/227468 [==============================] - 13s 58us/step - loss: 0.7159 - acc: 0.6814 - val_loss: 0.7534 - val_acc: 0.6836\n",
      "Epoch 42/100\n",
      "227468/227468 [==============================] - 13s 58us/step - loss: 0.7160 - acc: 0.6812 - val_loss: 0.7540 - val_acc: 0.6868\n",
      "Epoch 43/100\n",
      "227468/227468 [==============================] - 13s 58us/step - loss: 0.7156 - acc: 0.6823 - val_loss: 0.7531 - val_acc: 0.6869\n",
      "Epoch 44/100\n",
      "227468/227468 [==============================] - 13s 58us/step - loss: 0.7155 - acc: 0.6820 - val_loss: 0.7553 - val_acc: 0.6835\n",
      "Epoch 45/100\n",
      "227468/227468 [==============================] - 13s 58us/step - loss: 0.7156 - acc: 0.6814 - val_loss: 0.7570 - val_acc: 0.6734\n",
      "Epoch 46/100\n",
      "227468/227468 [==============================] - 13s 57us/step - loss: 0.7161 - acc: 0.6817 - val_loss: 0.7549 - val_acc: 0.6866\n",
      "Epoch 47/100\n",
      "227468/227468 [==============================] - 13s 57us/step - loss: 0.7156 - acc: 0.6822 - val_loss: 0.7534 - val_acc: 0.6862\n",
      "Epoch 48/100\n",
      "227468/227468 [==============================] - 13s 58us/step - loss: 0.7157 - acc: 0.6827 - val_loss: 0.7530 - val_acc: 0.6903\n",
      "Epoch 49/100\n",
      "227468/227468 [==============================] - 13s 58us/step - loss: 0.7156 - acc: 0.6828 - val_loss: 0.7520 - val_acc: 0.6848\n",
      "Epoch 50/100\n",
      "227468/227468 [==============================] - 13s 58us/step - loss: 0.7156 - acc: 0.6827 - val_loss: 0.7513 - val_acc: 0.6907\n",
      "Epoch 51/100\n",
      "227468/227468 [==============================] - 13s 58us/step - loss: 0.7155 - acc: 0.6831 - val_loss: 0.7542 - val_acc: 0.6835\n",
      "Epoch 52/100\n",
      "227468/227468 [==============================] - 13s 58us/step - loss: 0.7150 - acc: 0.6836 - val_loss: 0.7541 - val_acc: 0.6733\n",
      "Epoch 53/100\n",
      "227468/227468 [==============================] - 13s 58us/step - loss: 0.7155 - acc: 0.6832 - val_loss: 0.7531 - val_acc: 0.6822\n",
      "Epoch 54/100\n",
      "227468/227468 [==============================] - 13s 58us/step - loss: 0.7154 - acc: 0.6847 - val_loss: 0.7545 - val_acc: 0.6804\n",
      "Epoch 55/100\n",
      "227468/227468 [==============================] - 13s 58us/step - loss: 0.7152 - acc: 0.6841 - val_loss: 0.7550 - val_acc: 0.6809\n",
      "Epoch 56/100\n",
      "227468/227468 [==============================] - 13s 57us/step - loss: 0.7155 - acc: 0.6846 - val_loss: 0.7523 - val_acc: 0.6838\n",
      "Epoch 57/100\n",
      "227468/227468 [==============================] - 13s 58us/step - loss: 0.7151 - acc: 0.6844 - val_loss: 0.7528 - val_acc: 0.6803\n",
      "Epoch 58/100\n",
      "227468/227468 [==============================] - 13s 57us/step - loss: 0.7151 - acc: 0.6844 - val_loss: 0.7525 - val_acc: 0.6839\n",
      "Epoch 59/100\n",
      "227468/227468 [==============================] - 13s 57us/step - loss: 0.7150 - acc: 0.6846 - val_loss: 0.7521 - val_acc: 0.6815\n",
      "Epoch 60/100\n",
      "227468/227468 [==============================] - 13s 58us/step - loss: 0.7149 - acc: 0.6842 - val_loss: 0.7549 - val_acc: 0.6785\n",
      "Epoch 61/100\n",
      "227468/227468 [==============================] - 13s 58us/step - loss: 0.7149 - acc: 0.6846 - val_loss: 0.7527 - val_acc: 0.6958\n",
      "Epoch 62/100\n",
      "227468/227468 [==============================] - 13s 58us/step - loss: 0.7151 - acc: 0.6860 - val_loss: 0.7511 - val_acc: 0.6883\n",
      "Epoch 63/100\n",
      "227468/227468 [==============================] - 13s 57us/step - loss: 0.7145 - acc: 0.6857 - val_loss: 0.7549 - val_acc: 0.6800\n",
      "Epoch 64/100\n",
      "227468/227468 [==============================] - 13s 57us/step - loss: 0.7147 - acc: 0.6862 - val_loss: 0.7542 - val_acc: 0.6905\n",
      "Epoch 65/100\n",
      "227468/227468 [==============================] - 13s 57us/step - loss: 0.7144 - acc: 0.6860 - val_loss: 0.7528 - val_acc: 0.6802\n",
      "Epoch 66/100\n",
      "227468/227468 [==============================] - 13s 57us/step - loss: 0.7145 - acc: 0.6865 - val_loss: 0.7514 - val_acc: 0.6949\n",
      "Epoch 67/100\n",
      "227468/227468 [==============================] - 13s 57us/step - loss: 0.7146 - acc: 0.6862 - val_loss: 0.7569 - val_acc: 0.6860\n",
      "Epoch 68/100\n",
      "227468/227468 [==============================] - 13s 57us/step - loss: 0.7144 - acc: 0.6864 - val_loss: 0.7575 - val_acc: 0.6844\n",
      "Epoch 69/100\n",
      "227468/227468 [==============================] - 13s 57us/step - loss: 0.7145 - acc: 0.6874 - val_loss: 0.7538 - val_acc: 0.6835\n",
      "Epoch 70/100\n",
      "227468/227468 [==============================] - 13s 57us/step - loss: 0.7142 - acc: 0.6869 - val_loss: 0.7517 - val_acc: 0.6881\n",
      "Epoch 71/100\n",
      "227468/227468 [==============================] - 13s 58us/step - loss: 0.7150 - acc: 0.6874 - val_loss: 0.7513 - val_acc: 0.6903\n",
      "Epoch 72/100\n",
      "227468/227468 [==============================] - 13s 57us/step - loss: 0.7141 - acc: 0.6885 - val_loss: 0.7515 - val_acc: 0.6977\n",
      "Epoch 73/100\n",
      "227468/227468 [==============================] - 13s 57us/step - loss: 0.7143 - acc: 0.6873 - val_loss: 0.7543 - val_acc: 0.6900\n",
      "Epoch 74/100\n",
      "227468/227468 [==============================] - 13s 57us/step - loss: 0.7142 - acc: 0.6883 - val_loss: 0.7528 - val_acc: 0.6891\n",
      "Epoch 75/100\n",
      "227468/227468 [==============================] - 13s 58us/step - loss: 0.7148 - acc: 0.6896 - val_loss: 0.7504 - val_acc: 0.6934\n",
      "Epoch 76/100\n",
      "227468/227468 [==============================] - 13s 57us/step - loss: 0.7144 - acc: 0.6888 - val_loss: 0.7546 - val_acc: 0.6821\n",
      "Epoch 77/100\n",
      "227468/227468 [==============================] - 13s 58us/step - loss: 0.7139 - acc: 0.6901 - val_loss: 0.7509 - val_acc: 0.6886\n",
      "Epoch 78/100\n",
      "227468/227468 [==============================] - 14s 62us/step - loss: 0.7143 - acc: 0.6886 - val_loss: 0.7518 - val_acc: 0.6907\n",
      "Epoch 79/100\n",
      "227468/227468 [==============================] - 15s 68us/step - loss: 0.7143 - acc: 0.6899 - val_loss: 0.7532 - val_acc: 0.6906\n",
      "Epoch 80/100\n",
      "227468/227468 [==============================] - 16s 72us/step - loss: 0.7141 - acc: 0.6902 - val_loss: 0.7539 - val_acc: 0.6885\n",
      "Epoch 81/100\n",
      "227468/227468 [==============================] - 13s 59us/step - loss: 0.7143 - acc: 0.6893 - val_loss: 0.7553 - val_acc: 0.6841\n",
      "Epoch 82/100\n",
      "227468/227468 [==============================] - 13s 58us/step - loss: 0.7138 - acc: 0.6902 - val_loss: 0.7523 - val_acc: 0.6917\n",
      "Epoch 83/100\n",
      "227468/227468 [==============================] - 13s 57us/step - loss: 0.7140 - acc: 0.6902 - val_loss: 0.7546 - val_acc: 0.6926\n",
      "Epoch 84/100\n",
      "227468/227468 [==============================] - 13s 57us/step - loss: 0.7144 - acc: 0.6913 - val_loss: 0.7514 - val_acc: 0.6954\n",
      "Epoch 85/100\n",
      "227468/227468 [==============================] - 13s 57us/step - loss: 0.7140 - acc: 0.6899 - val_loss: 0.7514 - val_acc: 0.6928\n",
      "Epoch 86/100\n",
      "227468/227468 [==============================] - 13s 57us/step - loss: 0.7143 - acc: 0.6892 - val_loss: 0.7516 - val_acc: 0.6882\n",
      "Epoch 87/100\n",
      "227468/227468 [==============================] - 13s 58us/step - loss: 0.7142 - acc: 0.6908 - val_loss: 0.7521 - val_acc: 0.6949\n",
      "Epoch 88/100\n",
      "227468/227468 [==============================] - 13s 58us/step - loss: 0.7133 - acc: 0.6914 - val_loss: 0.7506 - val_acc: 0.6940\n",
      "Epoch 89/100\n",
      "227468/227468 [==============================] - 13s 57us/step - loss: 0.7142 - acc: 0.6918 - val_loss: 0.7547 - val_acc: 0.6826\n",
      "Epoch 90/100\n",
      "227468/227468 [==============================] - 13s 57us/step - loss: 0.7139 - acc: 0.6908 - val_loss: 0.7553 - val_acc: 0.6888\n",
      "Epoch 91/100\n",
      "227468/227468 [==============================] - 13s 58us/step - loss: 0.7140 - acc: 0.6915 - val_loss: 0.7561 - val_acc: 0.6858\n",
      "Epoch 92/100\n",
      "227468/227468 [==============================] - 13s 57us/step - loss: 0.7147 - acc: 0.6910 - val_loss: 0.7529 - val_acc: 0.6941\n",
      "Epoch 93/100\n",
      "227468/227468 [==============================] - 13s 58us/step - loss: 0.7137 - acc: 0.6918 - val_loss: 0.7518 - val_acc: 0.6934\n",
      "Epoch 94/100\n",
      "227468/227468 [==============================] - 13s 58us/step - loss: 0.7139 - acc: 0.6915 - val_loss: 0.7520 - val_acc: 0.6940\n",
      "Epoch 95/100\n",
      "227468/227468 [==============================] - 13s 58us/step - loss: 0.7138 - acc: 0.6915 - val_loss: 0.7529 - val_acc: 0.6875\n",
      "Epoch 96/100\n",
      "227468/227468 [==============================] - 13s 57us/step - loss: 0.7140 - acc: 0.6915 - val_loss: 0.7526 - val_acc: 0.6848\n",
      "Epoch 97/100\n",
      "227468/227468 [==============================] - 13s 58us/step - loss: 0.7133 - acc: 0.6925 - val_loss: 0.7531 - val_acc: 0.6989\n",
      "Epoch 98/100\n",
      "227468/227468 [==============================] - 13s 58us/step - loss: 0.7140 - acc: 0.6910 - val_loss: 0.7524 - val_acc: 0.6952\n",
      "Epoch 99/100\n",
      "227468/227468 [==============================] - 13s 58us/step - loss: 0.7137 - acc: 0.6918 - val_loss: 0.7540 - val_acc: 0.6904\n",
      "Epoch 100/100\n",
      "227468/227468 [==============================] - 13s 58us/step - loss: 0.7139 - acc: 0.6912 - val_loss: 0.7533 - val_acc: 0.6909\n"
     ]
    }
   ],
   "source": [
    "nb_epoch = 100\n",
    "batch_size = 32\n",
    "\n",
    "autoencoder.compile(optimizer='adam', \n",
    "                    loss='mean_squared_error', \n",
    "                    metrics=['accuracy'])\n",
    "\n",
    "checkpointer = ModelCheckpoint(filepath=\"model.h5\",\n",
    "                               verbose=0,\n",
    "                               save_best_only=True)\n",
    "tensorboard = TensorBoard(log_dir='./logs',\n",
    "                          histogram_freq=0,\n",
    "                          write_graph=True,\n",
    "                          write_images=True)\n",
    "\n",
    "history = autoencoder.fit(X_train, X_train,\n",
    "                    epochs=nb_epoch,\n",
    "                    batch_size=batch_size,\n",
    "                    shuffle=True,\n",
    "                    validation_data=(X_test, X_test),\n",
    "                    verbose=1,\n",
    "                    callbacks=[checkpointer, tensorboard]).history\n"
   ]
  },
  {
   "cell_type": "code",
   "execution_count": 27,
   "metadata": {},
   "outputs": [],
   "source": [
    "autoencoder = load_model('model.h5')"
   ]
  },
  {
   "cell_type": "markdown",
   "metadata": {},
   "source": [
    "\n",
    "## Evaluation"
   ]
  },
  {
   "cell_type": "code",
   "execution_count": 28,
   "metadata": {},
   "outputs": [
    {
     "data": {
      "image/png": "[encoded data removed]",
      "text/plain": [
       "<Figure size 432x288 with 1 Axes>"
      ]
     },
     "metadata": {
      "needs_background": "light"
     },
     "output_type": "display_data"
    }
   ],
   "source": [
    "plt.plot(history['loss'])\n",
    "plt.plot(history['val_loss'])\n",
    "plt.title('model loss')\n",
    "plt.ylabel('loss')\n",
    "plt.xlabel('epoch')\n",
    "plt.legend(['train', 'test'], loc='upper right');"
   ]
  },
  {
   "cell_type": "markdown",
   "metadata": {},
   "source": [
    "The reconstruction error on our training and test data seems to converge nicely. Is it low enough? Let's have a closer look at the error distribution:"
   ]
  },
  {
   "cell_type": "code",
   "execution_count": 29,
   "metadata": {},
   "outputs": [],
   "source": [
    "predictions = autoencoder.predict(X_test)"
   ]
  },
  {
   "cell_type": "code",
   "execution_count": 30,
   "metadata": {},
   "outputs": [],
   "source": [
    "mse = np.mean(np.power(X_test - predictions, 2), axis=1)\n",
    "error_df = pd.DataFrame({'reconstruction_error': mse,\n",
    "                        'true_class': y_test})"
   ]
  },
  {
   "cell_type": "code",
   "execution_count": 31,
   "metadata": {},
   "outputs": [
    {
     "data": {
      "text/html": [
       "<div>\n",
       "<style scoped>\n",
       "    .dataframe tbody tr th:only-of-type {\n",
       "        vertical-align: middle;\n",
       "    }\n",
       "\n",
       "    .dataframe tbody tr th {\n",
       "        vertical-align: top;\n",
       "    }\n",
       "\n",
       "    .dataframe thead th {\n",
       "        text-align: right;\n",
       "    }\n",
       "</style>\n",
       "<table border=\"1\" class=\"dataframe\">\n",
       "  <thead>\n",
       "    <tr style=\"text-align: right;\">\n",
       "      <th></th>\n",
       "      <th>reconstruction_error</th>\n",
       "      <th>true_class</th>\n",
       "    </tr>\n",
       "  </thead>\n",
       "  <tbody>\n",
       "    <tr>\n",
       "      <th>count</th>\n",
       "      <td>56962.000000</td>\n",
       "      <td>56962.000000</td>\n",
       "    </tr>\n",
       "    <tr>\n",
       "      <th>mean</th>\n",
       "      <td>0.741389</td>\n",
       "      <td>0.002019</td>\n",
       "    </tr>\n",
       "    <tr>\n",
       "      <th>std</th>\n",
       "      <td>3.633362</td>\n",
       "      <td>0.044887</td>\n",
       "    </tr>\n",
       "    <tr>\n",
       "      <th>min</th>\n",
       "      <td>0.047110</td>\n",
       "      <td>0.000000</td>\n",
       "    </tr>\n",
       "    <tr>\n",
       "      <th>25%</th>\n",
       "      <td>0.242355</td>\n",
       "      <td>0.000000</td>\n",
       "    </tr>\n",
       "    <tr>\n",
       "      <th>50%</th>\n",
       "      <td>0.396429</td>\n",
       "      <td>0.000000</td>\n",
       "    </tr>\n",
       "    <tr>\n",
       "      <th>75%</th>\n",
       "      <td>0.633702</td>\n",
       "      <td>0.000000</td>\n",
       "    </tr>\n",
       "    <tr>\n",
       "      <th>max</th>\n",
       "      <td>409.560283</td>\n",
       "      <td>1.000000</td>\n",
       "    </tr>\n",
       "  </tbody>\n",
       "</table>\n",
       "</div>"
      ],
      "text/plain": [
       "       reconstruction_error    true_class\n",
       "count          56962.000000  56962.000000\n",
       "mean               0.741389      0.002019\n",
       "std                3.633362      0.044887\n",
       "min                0.047110      0.000000\n",
       "25%                0.242355      0.000000\n",
       "50%                0.396429      0.000000\n",
       "75%                0.633702      0.000000\n",
       "max              409.560283      1.000000"
      ]
     },
     "execution_count": 31,
     "metadata": {},
     "output_type": "execute_result"
    }
   ],
   "source": [
    "error_df.describe()"
   ]
  },
  {
   "cell_type": "markdown",
   "metadata": {},
   "source": [
    "### Reconstruction error without fraud"
   ]
  },
  {
   "cell_type": "code",
   "execution_count": 32,
   "metadata": {},
   "outputs": [
    {
     "data": {
      "image/png": "[encoded data removed]",
      "text/plain": [
       "<Figure size 432x288 with 1 Axes>"
      ]
     },
     "metadata": {
      "needs_background": "light"
     },
     "output_type": "display_data"
    }
   ],
   "source": [
    "fig = plt.figure()\n",
    "ax = fig.add_subplot(111)\n",
    "normal_error_df = error_df[(error_df['true_class']== 0) & (error_df['reconstruction_error'] < 10)]\n",
    "_ = ax.hist(normal_error_df.reconstruction_error.values, bins=10)\n",
    "\n"
   ]
  },
  {
   "cell_type": "markdown",
   "metadata": {},
   "source": [
    "### Reconstruction Error with fraud"
   ]
  },
  {
   "cell_type": "code",
   "execution_count": 33,
   "metadata": {},
   "outputs": [
    {
     "data": {
      "image/png": "[encoded data removed]",
      "text/plain": [
       "<Figure size 432x288 with 1 Axes>"
      ]
     },
     "metadata": {
      "needs_background": "light"
     },
     "output_type": "display_data"
    }
   ],
   "source": [
    "fig = plt.figure()\n",
    "ax = fig.add_subplot(111)\n",
    "fraud_error_df = error_df[error_df['true_class'] == 1]\n",
    "_ = ax.hist(fraud_error_df.reconstruction_error.values, bins=10)"
   ]
  },
  {
   "cell_type": "code",
   "execution_count": 34,
   "metadata": {},
   "outputs": [],
   "source": [
    "from sklearn.metrics import (confusion_matrix, precision_recall_curve, auc,\n",
    "                             roc_curve, recall_score, classification_report, f1_score,\n",
    "                             precision_recall_fscore_support)\n"
   ]
  },
  {
   "cell_type": "code",
   "execution_count": 35,
   "metadata": {},
   "outputs": [
    {
     "data": {
      "image/png": "[encoded data removed]",
      "text/plain": [
       "<Figure size 432x288 with 1 Axes>"
      ]
     },
     "metadata": {
      "needs_background": "light"
     },
     "output_type": "display_data"
    }
   ],
   "source": [
    "precision, recall, th = precision_recall_curve(error_df.true_class, error_df.reconstruction_error)\n",
    "plt.plot(recall, precision, 'b', label='Precision-Recall curve')\n",
    "plt.title('Recall vs Precision')\n",
    "plt.xlabel('Recall')\n",
    "plt.ylabel('Precision')\n",
    "plt.show()"
   ]
  },
  {
   "cell_type": "code",
   "execution_count": 36,
   "metadata": {},
   "outputs": [
    {
     "data": {
      "image/png": "[encoded data removed]",
      "text/plain": [
       "<Figure size 432x288 with 1 Axes>"
      ]
     },
     "metadata": {
      "needs_background": "light"
     },
     "output_type": "display_data"
    }
   ],
   "source": [
    "plt.plot(th, precision[1:], 'b', label='Threshold-Precision curve')\n",
    "plt.title('Precision for different threshold values')\n",
    "plt.xlabel('Threshold')\n",
    "plt.ylabel('Precision')\n",
    "plt.show()"
   ]
  },
  {
   "cell_type": "code",
   "execution_count": 40,
   "metadata": {},
   "outputs": [
    {
     "data": {
      "image/png": "[encoded data removed]",
      "text/plain": [
       "<Figure size 432x288 with 1 Axes>"
      ]
     },
     "metadata": {
      "needs_background": "light"
     },
     "output_type": "display_data"
    }
   ],
   "source": [
    "plt.plot(th, recall[1:], 'b', label='Threshold-Recall curve')\n",
    "plt.title('Recall for different threshold values')\n",
    "plt.xlabel('Threshold')\n",
    "plt.ylabel('Recall')\n",
    "plt.show()\n"
   ]
  },
  {
   "cell_type": "markdown",
   "metadata": {},
   "source": [
    "\n",
    "Prediction\n",
    "\n",
    "Our model is a bit different this time. It doesn't know how to predict new values. But we don't need that. In order to predict whether or not a new/unseen transaction is normal or fraudulent, we'll calculate the reconstruction error from the transaction data itself. If the error is larger than a predefined threshold, we'll mark it as a fraud (since our model should have a low error on normal transactions). Let's pick that value:\n"
   ]
  },
  {
   "cell_type": "code",
   "execution_count": 50,
   "metadata": {},
   "outputs": [],
   "source": [
    "threshold = 4"
   ]
  },
  {
   "cell_type": "code",
   "execution_count": 51,
   "metadata": {},
   "outputs": [
    {
     "data": {
      "image/png": "[encoded data removed]",
      "text/plain": [
       "<Figure size 432x288 with 2 Axes>"
      ]
     },
     "metadata": {
      "needs_background": "light"
     },
     "output_type": "display_data"
    }
   ],
   "source": [
    "y_pred = [1 if e > threshold else 0 for e in error_df.reconstruction_error.values]\n",
    "conf_matrix = confusion_matrix(error_df.true_class, y_pred)\n",
    "\n",
    "sns.heatmap(conf_matrix, xticklabels=LABELS, yticklabels=LABELS, annot=True, cmap=\"Greens\", fmt='g');\n",
    "plt.title(\"Confusion matrix\")\n",
    "plt.ylabel('True class')\n",
    "plt.xlabel('Predicted class')\n",
    "plt.show()"
   ]
  },
  {
   "cell_type": "markdown",
   "metadata": {},
   "source": []
  },
  {
   "cell_type": "code",
   "execution_count": null,
   "metadata": {},
   "outputs": [],
   "source": []
  }
 ],
 "metadata": {
  "kernelspec": {
   "display_name": "Python 3",
   "language": "python",
   "name": "python3"
  },
  "language_info": {
   "codemirror_mode": {
    "name": "ipython",
    "version": 3
   },
   "file_extension": ".py",
   "mimetype": "text/x-python",
   "name": "python",
   "nbconvert_exporter": "python",
   "pygments_lexer": "ipython3",
   "version": "3.7.1"
  }
 },
 "nbformat": 4,
 "nbformat_minor": 2
}
